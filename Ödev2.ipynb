{
 "cells": [
  {
   "cell_type": "code",
   "execution_count": 2,
   "id": "a4b884bb-30eb-4f78-ba34-4b2f5bdd8e51",
   "metadata": {},
   "outputs": [
    {
     "name": "stdin",
     "output_type": "stream",
     "text": [
      "Bir sayı girin:  5\n"
     ]
    },
    {
     "name": "stdout",
     "output_type": "stream",
     "text": [
      "Pozitif Tek\n"
     ]
    }
   ],
   "source": [
    "# Soru 1 - Sayı Analizi\n",
    "sayi = int(input(\"Bir sayı girin: \"))\n",
    "\n",
    "if sayi > 0:\n",
    "    durum = \"Pozitif\"\n",
    "elif sayi < 0:\n",
    "    durum = \"Negatif\"\n",
    "else:\n",
    "    durum = \"Sıfır\"\n",
    "\n",
    "if sayi % 2 == 0:\n",
    "    tekcift = \"Çift\"\n",
    "else:\n",
    "    tekcift = \"Tek\"\n",
    "\n",
    "print(f\"{durum} {tekcift}\")"
   ]
  },
  {
   "cell_type": "code",
   "execution_count": 3,
   "id": "c355805b-6c41-4652-8ff7-bc8f1d6d1e95",
   "metadata": {},
   "outputs": [
    {
     "name": "stdin",
     "output_type": "stream",
     "text": [
      "Bir kelime girin:  araba\n"
     ]
    },
    {
     "name": "stdout",
     "output_type": "stream",
     "text": [
      "{'a': 3, 'r': 1, 'b': 1}\n"
     ]
    }
   ],
   "source": [
    "# Soru 2 - Harf Frekansı\n",
    "kelime = input(\"Bir kelime girin: \")\n",
    "frekans = {}\n",
    "\n",
    "for harf in kelime:\n",
    "    if harf in frekans:\n",
    "        frekans[harf] += 1\n",
    "    else:\n",
    "        frekans[harf] = 1\n",
    "\n",
    "print(frekans)"
   ]
  },
  {
   "cell_type": "code",
   "execution_count": 4,
   "id": "8fca4b79-e835-48ee-95be-abd6cc42d930",
   "metadata": {},
   "outputs": [
    {
     "name": "stdin",
     "output_type": "stream",
     "text": [
      "Bir şifre girin:  Lavinia1\n"
     ]
    }
   ],
   "source": [
    "# Soru 3 - Şifre Kontrolü\n",
    "sifre = input(\"Bir şifre girin: \")\n",
    "\n",
    "# Kontroller\n",
    "uzunluk = len(sifre) >= 8\n",
    "buyuk_harf = any(harf.isupper() for harf in sifre)\n",
    "rakam = any(harf.isdigit() for harf in sifre)"
   ]
  },
  {
   "cell_type": "code",
   "execution_count": 5,
   "id": "b4083732-522a-442b-94f1-2c0c666170cd",
   "metadata": {},
   "outputs": [
    {
     "name": "stdout",
     "output_type": "stream",
     "text": [
      "ortalama: 15.0\n",
      "ortalamadan buyuk sayılar: [25, 30, 18]\n"
     ]
    }
   ],
   "source": [
    "# Soru 4 - Liste işlemleri \n",
    "liste = [12, 4, 9, 25, 30, 7, 18]\n",
    "ortalama = sum(liste) / len(liste)\n",
    "print(\"ortalama:\", ortalama)\n",
    "\n",
    "buyukler = [a for a in liste if a > ortalama]\n",
    "print(\"ortalamadan buyuk sayılar:\", buyukler)"
   ]
  },
  {
   "cell_type": "code",
   "execution_count": 6,
   "id": "0b6e1df8-43b5-4881-98d3-759e542088b0",
   "metadata": {
    "scrolled": true
   },
   "outputs": [
    {
     "name": "stdout",
     "output_type": "stream",
     "text": [
      "*\n",
      "**\n",
      "***\n",
      "****\n",
      "*****\n"
     ]
    }
   ],
   "source": [
    "#Soru 5 - Nested loop(Desen)\n",
    "for i in range(1, 6):\n",
    "    print(\"*\" * i)"
   ]
  },
  {
   "cell_type": "code",
   "execution_count": 29,
   "id": "fce1c05f-afe9-452d-9972-d071c3e73f4b",
   "metadata": {},
   "outputs": [
    {
     "name": "stdin",
     "output_type": "stream",
     "text": [
      "Bir sayı girin (0 çıkış):  35\n",
      "Bir sayı girin (0 çıkış):  67\n",
      "Bir sayı girin (0 çıkış):  23\n",
      "Bir sayı girin (0 çıkış):  0\n"
     ]
    },
    {
     "name": "stdout",
     "output_type": "stream",
     "text": [
      "Toplam: 125\n",
      "Ortalama: 41.666666666666664\n"
     ]
    }
   ],
   "source": [
    "# Soru 6 - While Döngüsü\n",
    "toplam = 0\n",
    "adet = 0\n",
    "while True:\n",
    "    sayi = int(input(\"Bir sayı girin (0 çıkış): \"))\n",
    "    if sayi == 0:\n",
    "        break\n",
    "    toplam += sayi\n",
    "    adet += 1\n",
    "if adet > 0:\n",
    "    ort = toplam / adet\n",
    "    print(\"Toplam:\", toplam)\n",
    "    print(\"Ortalama:\", ort)\n",
    "else:\n",
    "    print(\"Hiç sayı girilmedi.\")"
   ]
  },
  {
   "cell_type": "code",
   "execution_count": 20,
   "id": "fb3459f1-05a4-4286-bbb3-23c24d59d0f2",
   "metadata": {},
   "outputs": [
    {
     "name": "stdin",
     "output_type": "stream",
     "text": [
      "bir kelmie giriniz: araba\n"
     ]
    },
    {
     "name": "stdout",
     "output_type": "stream",
     "text": [
      "palindrom degil\n"
     ]
    }
   ],
   "source": [
    "# Soru 7 - Palindrom Kontrolü\n",
    "kelime = input(\"bir kelmie giriniz:\")\n",
    "if kelime == kelime[::-1]:\n",
    "    print(\"palindrom\")\n",
    "else:\n",
    "    print(\"palindrom degil\")"
   ]
  },
  {
   "cell_type": "code",
   "execution_count": 23,
   "id": "96e38cc6-06b2-4765-818f-e713aead60c6",
   "metadata": {},
   "outputs": [
    {
     "name": "stdout",
     "output_type": "stream",
     "text": [
      "hem 3 hemde 5'e bölünebilenlerin kareleri: [225, 900, 2025, 3600, 5625, 8100]\n"
     ]
    }
   ],
   "source": [
    "# Soru 8 - List Comprehension\n",
    "liste = [x**2 for x in range(1, 101) if x % 3 == 0 and x % 5 == 0]\n",
    "print(\"hem 3 hemde 5'e bölünebilenlerin kareleri:\" , liste)"
   ]
  },
  {
   "cell_type": "code",
   "execution_count": 24,
   "id": "7bc5a175-f37c-4412-85ab-d7d2653a2139",
   "metadata": {},
   "outputs": [
    {
     "name": "stdin",
     "output_type": "stream",
     "text": [
      "bir cümle giriniz:  sayın büşra kaymaz\n"
     ]
    },
    {
     "name": "stdout",
     "output_type": "stream",
     "text": [
      "reel: sayın büşra kaymaz\n",
      "yeni_cumle: Sayın Büşra Kaymaz\n"
     ]
    }
   ],
   "source": [
    "# Soru 9 - String İşlemleri\n",
    "cumle = input(\"bir cümle giriniz: \")\n",
    "kelimeler = cumle.split()\n",
    "yeni_cumle = \" \".join([kelime.capitalize() for kelime in kelimeler])\n",
    "print(\"reel:\" , cumle)\n",
    "print(\"yeni_cumle:\", yeni_cumle)"
   ]
  },
  {
   "cell_type": "code",
   "execution_count": 26,
   "id": "e7dfc110-a393-4938-94cb-fa8f8c0f81fa",
   "metadata": {},
   "outputs": [
    {
     "name": "stdin",
     "output_type": "stream",
     "text": [
      "1. yorumu girin:  film baya iyiydi\n",
      "2. yorumu girin:  berbat\n",
      "3. yorumu girin:  ortalamanın altı\n",
      "4. yorumu girin:  daha iyi olabilirdi\n",
      "5. yorumu girin:  idare eder\n"
     ]
    },
    {
     "name": "stdout",
     "output_type": "stream",
     "text": [
      "Toplam yorum sayısı: 5\n",
      "\"iyi\" geçen yorum sayısı: 2\n",
      "En uzun yorum: daha iyi olabilirdi\n",
      "En kısa yorum: berbat\n"
     ]
    }
   ],
   "source": [
    "# Mini Proje\n",
    "yorumlar = []\n",
    "for i in range(5):\n",
    "    yorum = input(f\"{i+1}. yorumu girin: \")\n",
    "    yorumlar.append(yorum)\n",
    "print(\"Toplam yorum sayısı:\", len(yorumlar))\n",
    "\n",
    "iyi_sayisi = 0\n",
    "for y in yorumlar:\n",
    "    if \"iyi\" in y.lower():\n",
    "        iyi_sayisi += 1\n",
    "print('\"iyi\" geçen yorum sayısı:', iyi_sayisi)\n",
    "\n",
    "en_uzun = max(yorumlar, key=len)\n",
    "en_kisa = min(yorumlar, key=len)\n",
    "print(\"En uzun yorum:\", en_uzun)\n",
    "print(\"En kısa yorum:\", en_kisa)"
   ]
  },
  {
   "cell_type": "code",
   "execution_count": null,
   "id": "3a904536-f31d-42c8-a8ed-60f0f6f1cb60",
   "metadata": {},
   "outputs": [],
   "source": []
  }
 ],
 "metadata": {
  "kernelspec": {
   "display_name": "Python 3 (ipykernel)",
   "language": "python",
   "name": "python3"
  },
  "language_info": {
   "codemirror_mode": {
    "name": "ipython",
    "version": 3
   },
   "file_extension": ".py",
   "mimetype": "text/x-python",
   "name": "python",
   "nbconvert_exporter": "python",
   "pygments_lexer": "ipython3",
   "version": "3.13.5"
  }
 },
 "nbformat": 4,
 "nbformat_minor": 5
}
